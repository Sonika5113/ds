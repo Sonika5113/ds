{
  "nbformat": 4,
  "nbformat_minor": 0,
  "metadata": {
    "colab": {
      "provenance": [],
      "authorship_tag": "ABX9TyPJHwP30XT9fbaN/qskrVMj",
      "include_colab_link": true
    },
    "kernelspec": {
      "name": "python3",
      "display_name": "Python 3"
    },
    "language_info": {
      "name": "python"
    }
  },
  "cells": [
    {
      "cell_type": "markdown",
      "metadata": {
        "id": "view-in-github",
        "colab_type": "text"
      },
      "source": [
        "<a href=\"https://colab.research.google.com/github/Sonika5113/ds/blob/main/13_Perform_String_reversal_using_stack.ipynb\" target=\"_parent\"><img src=\"https://colab.research.google.com/assets/colab-badge.svg\" alt=\"Open In Colab\"/></a>"
      ]
    },
    {
      "cell_type": "code",
      "execution_count": null,
      "metadata": {
        "colab": {
          "base_uri": "https://localhost:8080/"
        },
        "id": "pQHh__RBzq9s",
        "outputId": "0e5843de-84c0-47ba-caeb-5b862cf7e9c5"
      },
      "outputs": [
        {
          "output_type": "stream",
          "name": "stdout",
          "text": [
            "sonika\n",
            "akinos\n"
          ]
        }
      ],
      "source": [
        "class Stack:\n",
        "\tdef __init__(self):\n",
        "\t\tself.stack = []\n",
        "\tdef is_empty(self):\n",
        "\t\treturn len(self.stack) == 0\n",
        "\tdef push(self, item):\n",
        "\t\tself.stack.append(item)\n",
        "\tdef pop(self):\n",
        "\t\tif len(self.stack)==0:\n",
        "\t\t\treturn \"stack is empty\"\n",
        "\t\treturn self.stack.pop()\n",
        "\tdef peak(self):\n",
        "\t\treturn self.stack[-1]\n",
        "\tdef display(self):\n",
        "\t\tprint(self.stack)\n",
        "input_string = input()\n",
        "s = Stack()\n",
        "for character in input_string:\n",
        "\ts.push(character)\n",
        "output_string = \"\"\n",
        "for i in range(len(s.stack)):\n",
        "\toutput_string += s.pop()\n",
        "print(output_string)"
      ]
    }
  ]
}
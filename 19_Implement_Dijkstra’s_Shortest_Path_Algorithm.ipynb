{
  "nbformat": 4,
  "nbformat_minor": 0,
  "metadata": {
    "colab": {
      "provenance": [],
      "authorship_tag": "ABX9TyNFGIgl5FT5fMV0bNrCrBYr",
      "include_colab_link": true
    },
    "kernelspec": {
      "name": "python3",
      "display_name": "Python 3"
    },
    "language_info": {
      "name": "python"
    }
  },
  "cells": [
    {
      "cell_type": "markdown",
      "metadata": {
        "id": "view-in-github",
        "colab_type": "text"
      },
      "source": [
        "<a href=\"https://colab.research.google.com/github/Sonika5113/ds/blob/main/19_Implement_Dijkstra%E2%80%99s_Shortest_Path_Algorithm.ipynb\" target=\"_parent\"><img src=\"https://colab.research.google.com/assets/colab-badge.svg\" alt=\"Open In Colab\"/></a>"
      ]
    },
    {
      "cell_type": "code",
      "execution_count": null,
      "metadata": {
        "colab": {
          "base_uri": "https://localhost:8080/"
        },
        "id": "pBh-SH9Oj2Vi",
        "outputId": "15388474-614c-4caa-c169-5fc27b2485c9"
      },
      "outputs": [
        {
          "output_type": "stream",
          "name": "stdout",
          "text": [
            "Distance of  a  from source vertex:  0\n",
            "Distance of  b  from source vertex:  3\n",
            "Distance of  c  from source vertex:  1\n",
            "Distance of  d  from source vertex:  2\n",
            "Distance of  e  from source vertex:  4\n",
            "Distance of  f  from source vertex:  4\n",
            "Distance of  g  from source vertex:  3\n"
          ]
        }
      ],
      "source": [
        "import sys\n",
        "vertices = [[0, 0, 1, 1, 0, 0, 0],\n",
        "            [0, 0, 1, 0, 0, 1, 0],\n",
        "            [1, 1, 0, 1, 1, 0, 0],\n",
        "            [1, 0, 1, 0, 0, 0, 1],\n",
        "            [0, 0, 1, 0, 0, 1, 0],\n",
        "            [0, 1, 0, 0, 1, 0, 1],\n",
        "            [0, 0, 0, 1, 0, 1, 0]]\n",
        "\n",
        "edges = [[0, 0, 1, 2, 0, 0, 0],\n",
        "         [0, 0, 2, 0, 0, 3, 0],\n",
        "         [1, 2, 0, 1, 3, 0, 0],\n",
        "         [2, 0, 1, 0, 0, 0, 1],\n",
        "         [0, 0, 3, 0, 0, 2, 0],\n",
        "         [0, 3, 0, 0, 2, 0, 1],\n",
        "         [0, 0, 0, 1, 0, 1, 0]]\n",
        "def to_be_visited():\n",
        "    global v_a_d#visisted_and_distance\n",
        "    v = -10\n",
        "    for i in range(num_of_vertices):\n",
        "        if v_a_d[i][0] == 0 and (v < 0 or v_a_d[i][1] <= v_a_d[v][1]):\n",
        "            v = i\n",
        "    return v\n",
        "\n",
        "\n",
        "num_of_vertices = len(vertices[0])\n",
        "\n",
        "v_a_d = [[0, 0]]\n",
        "for i in range(num_of_vertices - 1):\n",
        "    v_a_d.append([0, sys.maxsize])\n",
        "for vertex in range(num_of_vertices):\n",
        "  to_visit = to_be_visited()\n",
        "  for n_i in range(num_of_vertices):# neighbour_index(n_i)\n",
        "    if vertices[to_visit][n_i] == 1 and v_a_d[n_i][0] == 0:\n",
        "      new_distance = v_a_d[to_visit][1] + edges[to_visit][n_i]\n",
        "      if v_a_d[n_i][1] > new_distance:\n",
        "        v_a_d[n_i][1] = new_distance\n",
        "\n",
        "    v_a_d[to_visit][0] = 1\n",
        "\n",
        "i = 0\n",
        "\n",
        "# Printing the distance\n",
        "for distance in v_a_d:\n",
        "    print(\"Distance of \", chr(ord('a') + i),\n",
        "          \" from source vertex: \", distance[1])\n",
        "    i = i + 1"
      ]
    }
  ]
}
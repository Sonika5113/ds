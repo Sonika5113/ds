{
  "nbformat": 4,
  "nbformat_minor": 0,
  "metadata": {
    "colab": {
      "provenance": [],
      "authorship_tag": "ABX9TyM9i9nz5UTJcqb2XSaCNfbL",
      "include_colab_link": true
    },
    "kernelspec": {
      "name": "python3",
      "display_name": "Python 3"
    },
    "language_info": {
      "name": "python"
    }
  },
  "cells": [
    {
      "cell_type": "markdown",
      "metadata": {
        "id": "view-in-github",
        "colab_type": "text"
      },
      "source": [
        "<a href=\"https://colab.research.google.com/github/Sonika5113/ds/blob/main/6_Develop_a_program_to_implement_quick_sort_technique.ipynb\" target=\"_parent\"><img src=\"https://colab.research.google.com/assets/colab-badge.svg\" alt=\"Open In Colab\"/></a>"
      ]
    },
    {
      "cell_type": "code",
      "execution_count": null,
      "metadata": {
        "id": "HOr6HrIgRnh5",
        "colab": {
          "base_uri": "https://localhost:8080/"
        },
        "outputId": "482e9188-d244-48ba-a987-eaec23657cd1"
      },
      "outputs": [
        {
          "output_type": "stream",
          "name": "stdout",
          "text": [
            "-88 33 8 1 0\n",
            "[-88, 0, 1, 8, 33]\n"
          ]
        }
      ],
      "source": [
        "def partition(arr,low,high):\n",
        "   i = ( low-1 )\n",
        "   pivot = arr[high] \n",
        "   for j in range(low , high):\n",
        "       if arr[j] <= pivot:\n",
        "         i = i+1\n",
        "         arr[i],arr[j] = arr[j],arr[i]\n",
        "   arr[i+1],arr[high] = arr[high],arr[i+1]\n",
        "   return ( i+1 )\n",
        "def quickSort(arr,low,high):\n",
        "   if low < high:\n",
        "      pi = partition(arr,low,high)\n",
        "      quickSort(arr, low, pi-1)\n",
        "      quickSort(arr, pi+1, high)\n",
        "str_input= input( )\n",
        "myList = [int(x) for x in str_input.split()]\n",
        "quickSort(myList,0,len(myList)-1)\n",
        "print(myList)"
      ]
    }
  ]
}
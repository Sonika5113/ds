{
  "nbformat": 4,
  "nbformat_minor": 0,
  "metadata": {
    "colab": {
      "provenance": [],
      "authorship_tag": "ABX9TyNljUCK/hLSW9sSDOQw+DRX",
      "include_colab_link": true
    },
    "kernelspec": {
      "name": "python3",
      "display_name": "Python 3"
    },
    "language_info": {
      "name": "python"
    }
  },
  "cells": [
    {
      "cell_type": "markdown",
      "metadata": {
        "id": "view-in-github",
        "colab_type": "text"
      },
      "source": [
        "<a href=\"https://colab.research.google.com/github/Sonika5113/ds/blob/main/exp_15_Create_a_queue_and_perform_various_operations_on_it_.ipynb\" target=\"_parent\"><img src=\"https://colab.research.google.com/assets/colab-badge.svg\" alt=\"Open In Colab\"/></a>"
      ]
    },
    {
      "cell_type": "code",
      "source": [
        "class queue:\n",
        "  def __init__(self,max):\n",
        "    self.max=max\n",
        "    self.Q=[]\n",
        "    self.rear=-1\n",
        "    self.front=0\n",
        "  def enqueue(self,ele):\n",
        "    if self.rear< self.max:\n",
        "      self.rear+=1\n",
        "      self.Q.insert(self.rear,ele)\n",
        "    else:\n",
        "      print(\"queue is full\")\n",
        "  def dequeue(self):\n",
        "    if self.front <= self.rear:\n",
        "      ele = self.Q[self.front]\n",
        "      self.front+=1\n",
        "      return ele\n",
        "    else:\n",
        "      print(\"queue is empty\")\n",
        "      return -1\n",
        "  def display(self):\n",
        "    print(\"elements in the queue are\")\n",
        "    for i in range(self.front, self.rear+1):\n",
        "      print(self.Q[i], end=\" \")\n",
        "    print()\n",
        "\n",
        "q=queue(5)\n",
        "def displaymenu():\n",
        "  print(\"\\nEnter 1.enqueue 2.dequeue 3.Display 4.exit\")\n",
        "choice =1\n",
        "while choice!= 4:\n",
        "  displaymenu()\n",
        "  choice = int(input(\"enter your choice \"))\n",
        "  if choice ==1:\n",
        "    ele=int(input(\"enter element to enqueue \"))\n",
        "    q.enqueue(ele)\n",
        "  elif choice ==2:\n",
        "    ele =q.dequeue()\n",
        "    print(\"the deleted element is :  \",ele)\n",
        "  elif choice ==3:\n",
        "    q.display()\n",
        "\n",
        "\n"
      ],
      "metadata": {
        "colab": {
          "base_uri": "https://localhost:8080/"
        },
        "id": "EYqcdxriKElE",
        "outputId": "f9c4de80-f298-4717-afd9-032237af742f"
      },
      "execution_count": null,
      "outputs": [
        {
          "name": "stdout",
          "output_type": "stream",
          "text": [
            "\n",
            "Enter 1.enqueue 2.dequeue 3.Display 4.exit\n",
            "enter your choice 1\n",
            "enter element to enqueue 44\n",
            "\n",
            "Enter 1.enqueue 2.dequeue 3.Display 4.exit\n",
            "enter your choice 1\n",
            "enter element to enqueue 66\n",
            "\n",
            "Enter 1.enqueue 2.dequeue 3.Display 4.exit\n",
            "enter your choice 3\n",
            "elements in the queue are\n",
            "44 66 \n",
            "\n",
            "Enter 1.enqueue 2.dequeue 3.Display 4.exit\n",
            "enter your choice 2\n",
            "the deleted element is :   44\n",
            "\n",
            "Enter 1.enqueue 2.dequeue 3.Display 4.exit\n",
            "enter your choice 3\n",
            "elements in the queue are\n",
            "66 \n",
            "\n",
            "Enter 1.enqueue 2.dequeue 3.Display 4.exit\n",
            "enter your choice 4\n"
          ]
        }
      ]
    }
  ]
}
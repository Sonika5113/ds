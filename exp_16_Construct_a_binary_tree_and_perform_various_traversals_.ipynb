{
  "nbformat": 4,
  "nbformat_minor": 0,
  "metadata": {
    "colab": {
      "provenance": [],
      "authorship_tag": "ABX9TyNqFi6LhSMbRHJ59JJBtLVs",
      "include_colab_link": true
    },
    "kernelspec": {
      "name": "python3",
      "display_name": "Python 3"
    },
    "language_info": {
      "name": "python"
    }
  },
  "cells": [
    {
      "cell_type": "markdown",
      "metadata": {
        "id": "view-in-github",
        "colab_type": "text"
      },
      "source": [
        "<a href=\"https://colab.research.google.com/github/Sonika5113/ds/blob/main/exp_16_Construct_a_binary_tree_and_perform_various_traversals_.ipynb\" target=\"_parent\"><img src=\"https://colab.research.google.com/assets/colab-badge.svg\" alt=\"Open In Colab\"/></a>"
      ]
    },
    {
      "cell_type": "code",
      "execution_count": null,
      "metadata": {
        "colab": {
          "base_uri": "https://localhost:8080/"
        },
        "id": "hwn2DhI1sFFn",
        "outputId": "11d50a29-1a95-418f-bcf5-358c19a846e1"
      },
      "outputs": [
        {
          "output_type": "stream",
          "name": "stdout",
          "text": [
            "Pre order Traversal: 1 2 4 3 \n",
            "In order Traversal: 4 2 1 3 \n",
            "Post order Traversal: 4 2 3 1 "
          ]
        }
      ],
      "source": [
        "class Node:\n",
        "    def __init__(self, key):\n",
        "        self.left = None\n",
        "        self.right = None\n",
        "        self.val = key\n",
        "    def traversePreOrder(self):\n",
        "        print(self.val, end=' ')\n",
        "        if self.left:\n",
        "            self.left.traversePreOrder()\n",
        "        if self.right:\n",
        "            self.right.traversePreOrder()\n",
        "    def traverseInOrder(self):\n",
        "        if self.left:\n",
        "            self.left.traverseInOrder()\n",
        "        print(self.val, end=' ')\n",
        "        if self.right:\n",
        "            self.right.traverseInOrder()\n",
        "    def traversePostOrder(self):\n",
        "        if self.left:\n",
        "            self.left.traversePostOrder()\n",
        "        if self.right:\n",
        "            self.right.traversePostOrder()\n",
        "        print(self.val, end=' ')\n",
        "\n",
        "\n",
        "root = Node(1)\n",
        "\n",
        "root.left = Node(2)\n",
        "root.right = Node(3)\n",
        "\n",
        "root.left.left = Node(4)\n",
        "\n",
        "print(\"Pre order Traversal: \", end=\"\")\n",
        "root.traversePreOrder()\n",
        "print(\"\\nIn order Traversal: \", end=\"\")\n",
        "root.traverseInOrder()\n",
        "print(\"\\nPost order Traversal: \", end=\"\")\n",
        "root.traversePostOrder()"
      ]
    }
  ]
}
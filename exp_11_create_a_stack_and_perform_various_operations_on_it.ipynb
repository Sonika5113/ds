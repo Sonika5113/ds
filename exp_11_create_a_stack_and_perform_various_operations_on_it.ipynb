{
  "nbformat": 4,
  "nbformat_minor": 0,
  "metadata": {
    "colab": {
      "provenance": [],
      "authorship_tag": "ABX9TyNxiLI59J86N0JSmy13/3UQ",
      "include_colab_link": true
    },
    "kernelspec": {
      "name": "python3",
      "display_name": "Python 3"
    },
    "language_info": {
      "name": "python"
    }
  },
  "cells": [
    {
      "cell_type": "markdown",
      "metadata": {
        "id": "view-in-github",
        "colab_type": "text"
      },
      "source": [
        "<a href=\"https://colab.research.google.com/github/Sonika5113/ds/blob/main/exp_11_create_a_stack_and_perform_various_operations_on_it.ipynb\" target=\"_parent\"><img src=\"https://colab.research.google.com/assets/colab-badge.svg\" alt=\"Open In Colab\"/></a>"
      ]
    },
    {
      "cell_type": "code",
      "execution_count": null,
      "metadata": {
        "colab": {
          "base_uri": "https://localhost:8080/"
        },
        "id": "WR8bBZBaxQ6o",
        "outputId": "e838c146-202a-4c42-ccbe-006a7c9fb63a"
      },
      "outputs": [
        {
          "output_type": "stream",
          "name": "stdout",
          "text": [
            "enter no of string3\n",
            "enter the vaulesaa\n",
            "enter the vaulesss\n",
            "enter the vaulesdd\n",
            "popped item: dd\n",
            "stack after popping an element: ['aa', 'ss']\n"
          ]
        }
      ],
      "source": [
        "def create_stack():\n",
        "    stack = []\n",
        "    return stack\n",
        "def isEmpty(stack):\n",
        "        return len(stack)==0\n",
        "def push(stack, item):\n",
        "    stack.append(item)\n",
        "  \n",
        "def pop(stack):\n",
        "    if (isEmpty(stack)):\n",
        "        return \"stack is empty\"\n",
        "    return stack.pop()\n",
        "stack = create_stack()\n",
        "n=int(input(\"enter no of string\"))\n",
        "for i in range(0,n):\n",
        "  k=input(\"enter the vaules\")\n",
        "  push(stack, str(k))\n",
        "print(\"popped item: \" + pop(stack))\n",
        "print(\"stack after popping an element: \" + str(stack))"
      ]
    }
  ]
}
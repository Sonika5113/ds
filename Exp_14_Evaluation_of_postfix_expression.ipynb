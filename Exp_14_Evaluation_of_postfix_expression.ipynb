{
  "nbformat": 4,
  "nbformat_minor": 0,
  "metadata": {
    "colab": {
      "provenance": [],
      "authorship_tag": "ABX9TyNg/V0Imn3o/i2C1kyVwqTq",
      "include_colab_link": true
    },
    "kernelspec": {
      "name": "python3",
      "display_name": "Python 3"
    },
    "language_info": {
      "name": "python"
    }
  },
  "cells": [
    {
      "cell_type": "markdown",
      "metadata": {
        "id": "view-in-github",
        "colab_type": "text"
      },
      "source": [
        "<a href=\"https://colab.research.google.com/github/Sonika5113/ds/blob/main/Exp_14_Evaluation_of_postfix_expression.ipynb\" target=\"_parent\"><img src=\"https://colab.research.google.com/assets/colab-badge.svg\" alt=\"Open In Colab\"/></a>"
      ]
    },
    {
      "cell_type": "code",
      "execution_count": null,
      "metadata": {
        "id": "d7A6zSDgtnTy",
        "colab": {
          "base_uri": "https://localhost:8080/"
        },
        "outputId": "282b5f6e-2ce5-489f-d32f-75d93b413616"
      },
      "outputs": [
        {
          "output_type": "stream",
          "name": "stdout",
          "text": [
            "enter the postfix expression53+62/*35*+\n",
            "the result of postfix expression 53+62/*35*+ is 39\n"
          ]
        }
      ],
      "source": [
        "class evaluate_postfix:\n",
        "    def __init__(self):\n",
        "        self.items=[]\n",
        "        self.size=-1\n",
        "    def isEmpty(self):\n",
        "        return self.items==[]\n",
        "    def push(self,item):\n",
        "        self.items.append(item)\n",
        "        self.size+=1\n",
        "    def pop(self):\n",
        "        if self.isEmpty():\n",
        "            return 0\n",
        "        else:\n",
        "            self.size-=1\n",
        "            return self.items.pop()\n",
        "    def seek(self):\n",
        "        if self.isEmpty():\n",
        "            return False\n",
        "        else:\n",
        "            return self.items[self.size]\n",
        "    def evalute(self,expr):\n",
        "        for i in expr:\n",
        "            if i in '0123456789':\n",
        "                self.push(i)\n",
        "            else:\n",
        "                op1=self.pop()\n",
        "                op2=self.pop()\n",
        "                result=self.cal(op2,op1,i)\n",
        "                self.push(result)\n",
        "        return self.pop()\n",
        "    def cal(self,op2,op1,i):\n",
        "        if i is '*':\n",
        "            return int(op2)*int(op1)\n",
        "        elif i is '/':\n",
        "            return int(op2)/int(op1)\n",
        "        elif i is '+':\n",
        "            return int(op2)+int(op1)\n",
        "        elif i is '-':\n",
        "            return int(op2)-int(op1)\n",
        "        elif i is '^':\n",
        "          return int(op2)^int(op1)\n",
        "s=evaluate_postfix()\n",
        "expr=input('enter the postfix expression')\n",
        "value=s.evalute(expr)\n",
        "print('the result of postfix expression',expr,'is',value)"
      ]
    }
  ]
}
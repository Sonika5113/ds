{
  "nbformat": 4,
  "nbformat_minor": 0,
  "metadata": {
    "colab": {
      "provenance": [],
      "authorship_tag": "ABX9TyN4IMzBsQQwAM8pRBGbrXwE",
      "include_colab_link": true
    },
    "kernelspec": {
      "name": "python3",
      "display_name": "Python 3"
    },
    "language_info": {
      "name": "python"
    }
  },
  "cells": [
    {
      "cell_type": "markdown",
      "metadata": {
        "id": "view-in-github",
        "colab_type": "text"
      },
      "source": [
        "<a href=\"https://colab.research.google.com/github/Sonika5113/ds/blob/main/4_Develop_a_program_to_implement_selection_sort_technique.ipynb\" target=\"_parent\"><img src=\"https://colab.research.google.com/assets/colab-badge.svg\" alt=\"Open In Colab\"/></a>"
      ]
    },
    {
      "cell_type": "code",
      "execution_count": 5,
      "metadata": {
        "colab": {
          "base_uri": "https://localhost:8080/"
        },
        "id": "BKE-LqzMP-jd",
        "outputId": "693e5879-c268-45b4-a741-4831ed82134a"
      },
      "outputs": [
        {
          "output_type": "stream",
          "name": "stdout",
          "text": [
            "55 6 9\n",
            "sorted elements are: \n",
            "[6, 9, 55]\n"
          ]
        }
      ],
      "source": [
        "def selection_Sort(list2):\n",
        "  swap = 0\n",
        "  for i in range(len(list2)):\n",
        "    min = i\n",
        "    for j in range(i + 1, len(list2)):\n",
        "      if list2[j] < list2[min]:\n",
        "        min = j\n",
        "        flag = 1\n",
        "    if flag == 1 :\n",
        "      list2[min], list2[i] = list2[i], list2[min]\n",
        "str_input= input()\n",
        "list = [int(x) for x in str_input.split()]\n",
        "selection_Sort(list)\n",
        "print('sorted elements are: ')\n",
        "print(list)"
      ]
    }
  ]
}
{
  "nbformat": 4,
  "nbformat_minor": 0,
  "metadata": {
    "colab": {
      "provenance": [],
      "authorship_tag": "ABX9TyNIV/iA8K7JEZZYFhKISMLx",
      "include_colab_link": true
    },
    "kernelspec": {
      "name": "python3",
      "display_name": "Python 3"
    },
    "language_info": {
      "name": "python"
    }
  },
  "cells": [
    {
      "cell_type": "markdown",
      "metadata": {
        "id": "view-in-github",
        "colab_type": "text"
      },
      "source": [
        "<a href=\"https://colab.research.google.com/github/Sonika5113/ds/blob/main/17_Construct_a_binary_search_tree_and_perform_a_search_operation_.ipynb\" target=\"_parent\"><img src=\"https://colab.research.google.com/assets/colab-badge.svg\" alt=\"Open In Colab\"/></a>"
      ]
    },
    {
      "cell_type": "code",
      "source": [
        "class Node:\n",
        "  def __init__(self, data):\n",
        "    self.left = None\n",
        "    self.val = data\n",
        "    self.right = None\n",
        "def printInorder(root):\n",
        "    if root:\n",
        "      printInorder(root.left)\n",
        "      print(root.val, end = \" \")\n",
        "      printInorder(root.right)\n",
        "def insert(node, data):\n",
        "    if node is None:\n",
        "      return Node(data)\n",
        "    if data < node.val:\n",
        "      node.left = insert(node.left, data)\n",
        "    else:\n",
        "      node.right = insert(node.right, data)\n",
        "      return node\n",
        "def search(root, number):\n",
        "    if root == None:\n",
        "      return 'not found';\n",
        "    elif number == root.val:\n",
        "      return 'found';\n",
        "    elif number < root.val:\n",
        "      return search(root.left, number)\n",
        "    elif number > root.val:\n",
        "      return search(root.right, number)\n",
        "root = None\n",
        "input_string = list(map(int, input().split()))\n",
        "for item in input_string:\n",
        "  root = insert(root, item)\n",
        "print(search(root, int(input('enter search element: '))))"
      ],
      "metadata": {
        "colab": {
          "base_uri": "https://localhost:8080/"
        },
        "id": "ahZwcHsCpuBK",
        "outputId": "1ad23951-94a5-4aca-bbef-d8700ac6d4ee"
      },
      "execution_count": null,
      "outputs": [
        {
          "output_type": "stream",
          "name": "stdout",
          "text": [
            "9 8 7 6 5 4 3 2 1\n",
            "enter search element: 19\n",
            "not found\n"
          ]
        }
      ]
    },
    {
      "cell_type": "code",
      "source": [],
      "metadata": {
        "id": "ciDJXt29Fh-F"
      },
      "execution_count": null,
      "outputs": []
    }
  ]
}
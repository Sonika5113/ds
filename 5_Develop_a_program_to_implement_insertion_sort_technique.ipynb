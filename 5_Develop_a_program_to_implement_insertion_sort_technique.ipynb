{
  "nbformat": 4,
  "nbformat_minor": 0,
  "metadata": {
    "colab": {
      "provenance": [],
      "authorship_tag": "ABX9TyM/90EgYAu9do6nUrCQun7E",
      "include_colab_link": true
    },
    "kernelspec": {
      "name": "python3",
      "display_name": "Python 3"
    },
    "language_info": {
      "name": "python"
    }
  },
  "cells": [
    {
      "cell_type": "markdown",
      "metadata": {
        "id": "view-in-github",
        "colab_type": "text"
      },
      "source": [
        "<a href=\"https://colab.research.google.com/github/Sonika5113/ds/blob/main/5_Develop_a_program_to_implement_insertion_sort_technique.ipynb\" target=\"_parent\"><img src=\"https://colab.research.google.com/assets/colab-badge.svg\" alt=\"Open In Colab\"/></a>"
      ]
    },
    {
      "cell_type": "code",
      "execution_count": 1,
      "metadata": {
        "colab": {
          "base_uri": "https://localhost:8080/"
        },
        "id": "kaHbIN84RlKr",
        "outputId": "685a4a05-8741-44ec-ca9d-23d623120f11"
      },
      "outputs": [
        {
          "output_type": "stream",
          "name": "stdout",
          "text": [
            "4\n",
            "55\n",
            "-88\n",
            "6\n",
            "4\n",
            "[-88, 4, 6, 55]\n"
          ]
        }
      ],
      "source": [
        "def insertion_Sort(arr):\n",
        "  for i in range(len(arr)):\n",
        "    key = arr[i]\n",
        "    j = i-1\n",
        "    while j >=0 and key< arr[j] :\n",
        "      arr[j+1] = arr[j]\n",
        "      j = j-1\n",
        "      arr[j+1] = key\n",
        "list=[]\n",
        "n=int(input())\n",
        "for i in  range(0,n):\n",
        "  list.append(int(input()))\n",
        "insertion_Sort(list)\n",
        "print(list)\n"
      ]
    }
  ]
}
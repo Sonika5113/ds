{
  "nbformat": 4,
  "nbformat_minor": 0,
  "metadata": {
    "colab": {
      "provenance": [],
      "authorship_tag": "ABX9TyMy2mTldku0sNMcTW5VAS99",
      "include_colab_link": true
    },
    "kernelspec": {
      "name": "python3",
      "display_name": "Python 3"
    },
    "language_info": {
      "name": "python"
    }
  },
  "cells": [
    {
      "cell_type": "markdown",
      "metadata": {
        "id": "view-in-github",
        "colab_type": "text"
      },
      "source": [
        "<a href=\"https://colab.research.google.com/github/Sonika5113/ds/blob/main/7_Develop_a_program_to_implement_merge_sort_technique.ipynb\" target=\"_parent\"><img src=\"https://colab.research.google.com/assets/colab-badge.svg\" alt=\"Open In Colab\"/></a>"
      ]
    },
    {
      "cell_type": "code",
      "execution_count": 1,
      "metadata": {
        "id": "o11ceYNyRoyv",
        "colab": {
          "base_uri": "https://localhost:8080/"
        },
        "outputId": "232a1434-cd91-44d8-c748-d7007a41dde2"
      },
      "outputs": [
        {
          "output_type": "stream",
          "name": "stdout",
          "text": [
            "55 -99 44 72\n",
            "sorted elements are: \n",
            "[-99, 44, 55, 72]\n"
          ]
        }
      ],
      "source": [
        "def merge_sort(collection):\n",
        "   length = len(collection)\n",
        "   if length > 1:\n",
        "        midpoint = length // 2\n",
        "        left_half = merge_sort(collection[:midpoint])\n",
        "        right_half = merge_sort(collection[midpoint:])\n",
        "        i = 0\n",
        "        j = 0\n",
        "        k = 0\n",
        "        left_length = len(left_half)\n",
        "        right_length = len(right_half)\n",
        "        while i < left_length and j < right_length:\n",
        "            if left_half[i] < right_half[j]:\n",
        "                collection[k] = left_half[i]\n",
        "                i += 1\n",
        "            else:\n",
        "                collection[k] = right_half[j]\n",
        "                j += 1\n",
        "            k += 1\n",
        "\n",
        "        while i < left_length:\n",
        "            collection[k] = left_half[i]\n",
        "            i += 1\n",
        "            k += 1\n",
        "\n",
        "        while j < right_length:\n",
        "            collection[k] = right_half[j]\n",
        "            j += 1\n",
        "            k += 1\n",
        "\n",
        "   return collection\n",
        "str_input= input()\n",
        "list = [int(x) for x in str_input.split()]\n",
        "merge_sort(list)\n",
        "print('sorted elements are: ')\n",
        "print(list)"
      ]
    }
  ]
}
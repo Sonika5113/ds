{
  "nbformat": 4,
  "nbformat_minor": 0,
  "metadata": {
    "colab": {
      "provenance": [],
      "authorship_tag": "ABX9TyNBVY9VwqrvF8rUviLMNAXi",
      "include_colab_link": true
    },
    "kernelspec": {
      "name": "python3",
      "display_name": "Python 3"
    },
    "language_info": {
      "name": "python"
    }
  },
  "cells": [
    {
      "cell_type": "markdown",
      "metadata": {
        "id": "view-in-github",
        "colab_type": "text"
      },
      "source": [
        "<a href=\"https://colab.research.google.com/github/Sonika5113/ds/blob/main/2_Perform_Binary_Search_on_a_list_stored_in_an_array.ipynb\" target=\"_parent\"><img src=\"https://colab.research.google.com/assets/colab-badge.svg\" alt=\"Open In Colab\"/></a>"
      ]
    },
    {
      "cell_type": "code",
      "execution_count": 6,
      "metadata": {
        "colab": {
          "base_uri": "https://localhost:8080/"
        },
        "id": "cx4tzXeaNrfV",
        "outputId": "36138203-6686-44eb-c75b-33618559911b"
      },
      "outputs": [
        {
          "output_type": "stream",
          "name": "stdout",
          "text": [
            "5 17 88 99\n",
            "17\n",
            "element found at index 1\n"
          ]
        }
      ],
      "source": [
        "def binary_search(list1, pivot):  \n",
        "    low = 0  \n",
        "    high = len(list1) - 1  \n",
        "    while low <= high:  \n",
        "      mid = (high + low) // 2  \n",
        "      if list1[mid] < pivot:  \n",
        "        low = mid + 1  \n",
        "      elif list1[mid] > pivot:  \n",
        "        high = mid - 1  \n",
        "      else:  \n",
        "        return mid    \n",
        "    return -1   \n",
        "str_input= input( )\n",
        "list1 = [int(x) for x in str_input.split()]\n",
        "pivot = int(input())\n",
        "res = binary_search(list1,pivot)\n",
        "if(res!=-1):\n",
        "    print(\"element found at index\",str(res))\n",
        "else:\n",
        "  print(\"element not found\")\n",
        "\n",
        "\n"
      ]
    }
  ]
}
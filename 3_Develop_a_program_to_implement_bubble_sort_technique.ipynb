{
  "nbformat": 4,
  "nbformat_minor": 0,
  "metadata": {
    "colab": {
      "provenance": [],
      "authorship_tag": "ABX9TyMHM06IIZxSltdI23+QW4TV",
      "include_colab_link": true
    },
    "kernelspec": {
      "name": "python3",
      "display_name": "Python 3"
    },
    "language_info": {
      "name": "python"
    }
  },
  "cells": [
    {
      "cell_type": "markdown",
      "metadata": {
        "id": "view-in-github",
        "colab_type": "text"
      },
      "source": [
        "<a href=\"https://colab.research.google.com/github/Sonika5113/ds/blob/main/3_Develop_a_program_to_implement_bubble_sort_technique.ipynb\" target=\"_parent\"><img src=\"https://colab.research.google.com/assets/colab-badge.svg\" alt=\"Open In Colab\"/></a>"
      ]
    },
    {
      "cell_type": "code",
      "execution_count": 1,
      "metadata": {
        "colab": {
          "base_uri": "https://localhost:8080/"
        },
        "id": "fn3YB-6SP_VX",
        "outputId": "09f3e18e-ed5e-4f39-94ba-640d31e4b8ee"
      },
      "outputs": [
        {
          "output_type": "stream",
          "name": "stdout",
          "text": [
            "-17 99 4 62 3\n",
            "sorted elements are: \n",
            "[-17, 3, 4, 62, 99]\n"
          ]
        }
      ],
      "source": [
        "def bubble_Sort(list1):\n",
        "  n = len(list1)\n",
        "  for i in range(n):\n",
        "      for j in range(0, n-i-1):\n",
        "        if list1[j] > list1[j+1] :\n",
        "          list1[j], list1[j+1] = list1[j+1], list1[j]\n",
        "str_input= input()\n",
        "list = [int(x) for x in str_input.split()]\n",
        "bubble_Sort(list)\n",
        "print('sorted elements are: ')\n",
        "print(list)\n"
      ]
    }
  ]
}
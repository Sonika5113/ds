{
  "nbformat": 4,
  "nbformat_minor": 0,
  "metadata": {
    "colab": {
      "provenance": [],
      "authorship_tag": "ABX9TyMJn8lo+49EHhK+clOKjNry",
      "include_colab_link": true
    },
    "kernelspec": {
      "name": "python3",
      "display_name": "Python 3"
    },
    "language_info": {
      "name": "python"
    }
  },
  "cells": [
    {
      "cell_type": "markdown",
      "metadata": {
        "id": "view-in-github",
        "colab_type": "text"
      },
      "source": [
        "<a href=\"https://colab.research.google.com/github/Sonika5113/ds/blob/main/Exp_12_convert_infix_expression_to_postfix_expression.ipynb\" target=\"_parent\"><img src=\"https://colab.research.google.com/assets/colab-badge.svg\" alt=\"Open In Colab\"/></a>"
      ]
    },
    {
      "cell_type": "code",
      "execution_count": null,
      "metadata": {
        "colab": {
          "base_uri": "https://localhost:8080/"
        },
        "id": "k5fHsCTgnyo5",
        "outputId": "61765975-233f-421e-b235-8988a52ad4c6"
      },
      "outputs": [
        {
          "output_type": "stream",
          "name": "stdout",
          "text": [
            "Enter infix expression (A - B) * (D/E)\n",
            "infix notation:  (A - B) * (D/E)\n",
            "postfix notation:  A  B-  DE/*\n"
          ]
        }
      ],
      "source": [
        "def infixToPostfix(expression): \n",
        "    stack = []\n",
        "    output = '' \n",
        "    Operators = set(['+', '-', '*', '/', '(', ')', '^'])\n",
        "    Priority = {'+':1, '-':1, '*':2, '/':2, '^':3} \n",
        "    for character in expression:\n",
        "        if character not in Operators: \n",
        "            output+= character\n",
        "        elif character=='(':  \n",
        "            stack.append('(')\n",
        "        elif character==')':\n",
        "            while stack and stack[-1]!= '(':\n",
        "                output+=stack.pop()\n",
        "            stack.pop()\n",
        "        else: \n",
        "            while stack and stack[-1]!='(' and Priority[character]<=Priority[stack[-1]]:\n",
        "                output+=stack.pop()\n",
        "            stack.append(character)\n",
        "    while stack:\n",
        "        output+=stack.pop()\n",
        "    return output\n",
        "expression = input('Enter infix expression ')\n",
        "print('infix notation: ',expression)\n",
        "print('postfix notation: ',infixToPostfix(expression))"
      ]
    }
  ]
}
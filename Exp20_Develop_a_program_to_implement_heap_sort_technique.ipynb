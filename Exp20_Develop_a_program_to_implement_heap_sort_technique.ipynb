{
  "nbformat": 4,
  "nbformat_minor": 0,
  "metadata": {
    "colab": {
      "provenance": [],
      "authorship_tag": "ABX9TyMlGqq6MeGpsDhUPIB0x0tf",
      "include_colab_link": true
    },
    "kernelspec": {
      "name": "python3",
      "display_name": "Python 3"
    },
    "language_info": {
      "name": "python"
    }
  },
  "cells": [
    {
      "cell_type": "markdown",
      "metadata": {
        "id": "view-in-github",
        "colab_type": "text"
      },
      "source": [
        "<a href=\"https://colab.research.google.com/github/Sonika5113/ds/blob/main/Exp20_Develop_a_program_to_implement_heap_sort_technique.ipynb\" target=\"_parent\"><img src=\"https://colab.research.google.com/assets/colab-badge.svg\" alt=\"Open In Colab\"/></a>"
      ]
    },
    {
      "cell_type": "code",
      "execution_count": null,
      "metadata": {
        "colab": {
          "base_uri": "https://localhost:8080/"
        },
        "id": "TyA7Jq3NcoZz",
        "outputId": "4dffdfbf-e037-495e-8990-b7bf7f5fc48d"
      },
      "outputs": [
        {
          "output_type": "stream",
          "name": "stdout",
          "text": [
            "77 -9 4 54 -8\n",
            "Sorted array is\n",
            "-9 -8 4 54 77 "
          ]
        }
      ],
      "source": [
        "def heapify(arr, n, i):\n",
        "  largest = i\n",
        "  l = 2 * i + 1\n",
        "  r = 2 * i + 2\n",
        "  if l < n and arr[i] < arr[l]:\n",
        "    largest = l\n",
        "  if r < n and arr[largest] < arr[r]:\n",
        "    largest = r\n",
        "  if largest != i:\n",
        "    arr[i], arr[largest] = arr[largest], arr[i]\n",
        "    heapify(arr, n, largest)  \n",
        "def heapSort(arr):\n",
        "  n = len(arr)\n",
        "  for i in range(n//2, -1, -1):\n",
        "    heapify(arr, n, i)\n",
        "  for i in range(n-1, 0, -1):\n",
        "    arr[i], arr[0] = arr[0], arr[i]\n",
        "    heapify(arr, i, 0)\n",
        "str_input= input()\n",
        "arr = [int(x) for x in str_input.split()]\n",
        "heapSort(arr)\n",
        "n = len(arr)\n",
        "print(\"Sorted array is\")\n",
        "for i in range(n):\n",
        "  print(\"%d \" % arr[i], end='')\n",
        "  "
      ]
    }
  ]
}